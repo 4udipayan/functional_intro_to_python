{
 "cells": [
  {
   "cell_type": "markdown",
   "metadata": {},
   "source": [
    "# A Functional Introduction To Python\n",
    "## <span style=\"color:blue\"> Section 1.  Introductory Concepts </span>\n",
    "## Section 2.  Functions\n",
    "## Section 3.  Control Structures\n",
    "## Section 4.  Intermediate Topics"
   ]
  },
  {
   "cell_type": "markdown",
   "metadata": {},
   "source": [
    "## Section 1:  Introductory Concepts Outline\n",
    "* #### Procedural Statements\n",
    "* #### Strings and String Formatting\n",
    "* #### Numbers and Arithmetic Operations\n",
    "* #### Data Structures\n",
    "* #### Writing and running Scripts"
   ]
  },
  {
   "cell_type": "markdown",
   "metadata": {},
   "source": [
    " ### Procedural Statements\n",
    " Procedural statements are literally statements that  can be issued one line at a time.  Below are types of procedural statements.  These statements can be run in:\n",
    " * Jupyter Notebook\n",
    " * IPython shell\n",
    " * Python interpreter\n",
    " * Python scripts"
   ]
  },
  {
   "cell_type": "markdown",
   "metadata": {},
   "source": [
    " ##### Printing"
   ]
  },
  {
   "cell_type": "code",
   "execution_count": 54,
   "metadata": {},
   "outputs": [
    {
     "name": "stdout",
     "output_type": "stream",
     "text": [
      "Hello world\n"
     ]
    }
   ],
   "source": [
    "print(\"Hello world\")"
   ]
  },
  {
   "cell_type": "markdown",
   "metadata": {},
   "source": [
    "##### Create Variable and Use Variable"
   ]
  },
  {
   "cell_type": "code",
   "execution_count": 55,
   "metadata": {},
   "outputs": [
    {
     "name": "stdout",
     "output_type": "stream",
     "text": [
      "armbar\n"
     ]
    }
   ],
   "source": [
    "variable = \"armbar\"; print(variable)"
   ]
  },
  {
   "cell_type": "markdown",
   "metadata": {},
   "source": [
    "##### Multiple procedural statements"
   ]
  },
  {
   "cell_type": "code",
   "execution_count": 56,
   "metadata": {},
   "outputs": [
    {
     "name": "stdout",
     "output_type": "stream",
     "text": [
      "In Brazilian Jiu Jitsu a common attack is a: kimura\n",
      "Another common attack is a: arm triangle\n"
     ]
    }
   ],
   "source": [
    "attack_one = \"kimura\"\n",
    "attack_two = \"arm triangle\"\n",
    "print(\"In Brazilian Jiu Jitsu a common attack is a:\", attack_one)\n",
    "print(\"Another common attack is a:\", attack_two)\n"
   ]
  },
  {
   "cell_type": "markdown",
   "metadata": {},
   "source": [
    "##### Adding Numbers"
   ]
  },
  {
   "cell_type": "code",
   "execution_count": 11,
   "metadata": {},
   "outputs": [
    {
     "data": {
      "text/plain": [
       "2"
      ]
     },
     "execution_count": 11,
     "metadata": {},
     "output_type": "execute_result"
    }
   ],
   "source": [
    "1+1"
   ]
  },
  {
   "cell_type": "markdown",
   "metadata": {},
   "source": [
    "##### Adding phrases"
   ]
  },
  {
   "cell_type": "code",
   "execution_count": 14,
   "metadata": {},
   "outputs": [
    {
     "data": {
      "text/plain": [
       "'armbar'"
      ]
     },
     "execution_count": 14,
     "metadata": {},
     "output_type": "execute_result"
    }
   ],
   "source": [
    "\"arm\" + \"bar\""
   ]
  },
  {
   "cell_type": "markdown",
   "metadata": {},
   "source": [
    "##### Complex statements\n",
    "More complex statements can be created that use data structures like the belts variable, which is a list."
   ]
  },
  {
   "cell_type": "code",
   "execution_count": 18,
   "metadata": {},
   "outputs": [
    {
     "name": "stdout",
     "output_type": "stream",
     "text": [
      "This is not the belt I want to end up at: white\n",
      "This is not the belt I want to end up at: blue\n",
      "This is not the belt I want to end up at: purple\n",
      "This is not the belt I want to end up at: brown\n",
      "The belt I want to be is: black\n"
     ]
    }
   ],
   "source": [
    "belts = [\"white\", \"blue\", \"purple\", \"brown\", \"black\"]\n",
    "for belt in belts:\n",
    "    if \"black\" in belt:\n",
    "        print(\"The belt I want to be is:\", belt)\n",
    "    else:\n",
    "        print(\"This is not the belt I want to end up at:\", belt)"
   ]
  },
  {
   "cell_type": "markdown",
   "metadata": {},
   "source": [
    " ### Strings and String Formatting\n",
    "Strings are a sequence of characters and they are often programatically formated.  Almost all Python programs have strings because they can be used to send messages to users who use the program.  When creating strings there are few core concepts to understand:\n",
    "\n",
    "* Strings can be create with the single, double and triple/double quotes\n",
    "* Strings are can be formatted\n",
    "* One complication of strings is they can be encoded in several formats including unicode\n",
    "* Many methods are available to operate on strings.  In an editor or IPython shell you can see these methods by tab completion: \n",
    "```\n",
    "basic_string.\n",
    "            capitalize()   format()       islower()      lower()        rpartition()   title()         \n",
    "            casefold()     format_map()   isnumeric()    lstrip()       rsplit()       translate()     \n",
    "            center()       index()        isprintable()  maketrans()    rstrip()       upper()         \n",
    "            count()        isalnum()      isspace()      partition()    split()        zfill()         \n",
    "            encode()       isalpha()      istitle()      replace()      splitlines()                  \n",
    "            endswith()     isdecimal()    isupper()      rfind()        startswith()                  \n",
    "            expandtabs()   isdigit()      join()         rindex()       strip()                       \n",
    "            find()         isidentifier() ljust()        rjust()        swapcase()        \n",
    "```"
   ]
  },
  {
   "cell_type": "markdown",
   "metadata": {},
   "source": [
    "##### Basic String"
   ]
  },
  {
   "cell_type": "code",
   "execution_count": 21,
   "metadata": {},
   "outputs": [],
   "source": [
    "basic_string = \"Brazilian Jiu Jitsu\""
   ]
  },
  {
   "cell_type": "markdown",
   "metadata": {},
   "source": [
    "##### Splitting String\n",
    "Turn a string in a list by splitting on spaces, or some other thing"
   ]
  },
  {
   "cell_type": "code",
   "execution_count": 25,
   "metadata": {},
   "outputs": [
    {
     "data": {
      "text/plain": [
       "['Brazilian', 'Jiu', 'Jitsu']"
      ]
     },
     "execution_count": 25,
     "metadata": {},
     "output_type": "execute_result"
    }
   ],
   "source": [
    "#split on spaces (default)\n",
    "basic_string.split()"
   ]
  },
  {
   "cell_type": "code",
   "execution_count": 26,
   "metadata": {},
   "outputs": [
    {
     "data": {
      "text/plain": [
       "['Brazilian', 'Jiu', 'Jitsu']"
      ]
     },
     "execution_count": 26,
     "metadata": {},
     "output_type": "execute_result"
    }
   ],
   "source": [
    "#split on hyphen\n",
    "string_with_hyphen = \"Brazilian-Jiu-Jitsu\"\n",
    "string_with_hyphen.split(\"-\")"
   ]
  },
  {
   "cell_type": "markdown",
   "metadata": {},
   "source": [
    "##### All Capital\n",
    "Turn a string into all Capital Letter"
   ]
  },
  {
   "cell_type": "code",
   "execution_count": 28,
   "metadata": {},
   "outputs": [
    {
     "data": {
      "text/plain": [
       "'BRAZILIAN JIU JITSU'"
      ]
     },
     "execution_count": 28,
     "metadata": {},
     "output_type": "execute_result"
    }
   ],
   "source": [
    "basic_string.upper()"
   ]
  },
  {
   "cell_type": "markdown",
   "metadata": {},
   "source": [
    "##### Slicing Strings\n",
    "Strings can be referenced by length and sliced"
   ]
  },
  {
   "cell_type": "code",
   "execution_count": 29,
   "metadata": {},
   "outputs": [
    {
     "data": {
      "text/plain": [
       "'Br'"
      ]
     },
     "execution_count": 29,
     "metadata": {},
     "output_type": "execute_result"
    }
   ],
   "source": [
    "#Get first two characters\n",
    "basic_string[:2]"
   ]
  },
  {
   "cell_type": "code",
   "execution_count": 30,
   "metadata": {},
   "outputs": [
    {
     "data": {
      "text/plain": [
       "19"
      ]
     },
     "execution_count": 30,
     "metadata": {},
     "output_type": "execute_result"
    }
   ],
   "source": [
    "#Get length of string\n",
    "len(basic_string)"
   ]
  },
  {
   "cell_type": "markdown",
   "metadata": {},
   "source": [
    "##### Strings Can Be Added Together\n"
   ]
  },
  {
   "cell_type": "code",
   "execution_count": 50,
   "metadata": {},
   "outputs": [
    {
     "data": {
      "text/plain": [
       "'Brazilian Jiu Jitsu is my favorite Martial Art'"
      ]
     },
     "execution_count": 50,
     "metadata": {},
     "output_type": "execute_result"
    }
   ],
   "source": [
    "basic_string + \" is my favorite Martial Art\""
   ]
  },
  {
   "cell_type": "markdown",
   "metadata": {},
   "source": [
    "#### Strings Can Be Formatted in More Complex Ways\n",
    "One of the best ways to format a string in modering Python 3 is to use f-strings"
   ]
  },
  {
   "cell_type": "code",
   "execution_count": 51,
   "metadata": {},
   "outputs": [
    {
     "data": {
      "text/plain": [
       "'I love practicing my favorite Martial Art, Brazilian Jiu Jitsu'"
      ]
     },
     "execution_count": 51,
     "metadata": {},
     "output_type": "execute_result"
    }
   ],
   "source": [
    "f'I love practicing my favorite Martial Art, {basic_string}'"
   ]
  },
  {
   "cell_type": "markdown",
   "metadata": {},
   "source": [
    "#### Strings Can Use Triple Quotes to Wrap"
   ]
  },
  {
   "cell_type": "code",
   "execution_count": 52,
   "metadata": {},
   "outputs": [
    {
     "data": {
      "text/plain": [
       "'\\nThis phrase is multiple sentenances long.\\nThere phrase can be formatted like simpler sentances,\\nfor example, I can still talk about my favorite Martial Art Brazilian Jiu Jitsu\\n'"
      ]
     },
     "execution_count": 52,
     "metadata": {},
     "output_type": "execute_result"
    }
   ],
   "source": [
    "f\"\"\"\n",
    "This phrase is multiple sentenances long.\n",
    "There phrase can be formatted like simpler sentances,\n",
    "for example, I can still talk about my favorite Martial Art {basic_string}\n",
    "\"\"\""
   ]
  },
  {
   "cell_type": "markdown",
   "metadata": {},
   "source": [
    "#### Line Breaks Can Be Removed with Replace\n",
    "The last long line contained line breaks, which are the **\\n** character, and they can be removed by using the replace method"
   ]
  },
  {
   "cell_type": "code",
   "execution_count": 53,
   "metadata": {},
   "outputs": [
    {
     "data": {
      "text/plain": [
       "'This phrase is multiple sentenances long.There phrase can be formatted like simpler sentances,for example, I can still talk about my favorite Martial Art Brazilian Jiu Jitsu'"
      ]
     },
     "execution_count": 53,
     "metadata": {},
     "output_type": "execute_result"
    }
   ],
   "source": [
    "f\"\"\"\n",
    "This phrase is multiple sentenances long.\n",
    "There phrase can be formatted like simpler sentances,\n",
    "for example, I can still talk about my favorite Martial Art {basic_string}\n",
    "\"\"\".replace(\"\\n\", \"\")"
   ]
  },
  {
   "cell_type": "markdown",
   "metadata": {},
   "source": [
    "### Numbers and Arithmetic Operations"
   ]
  },
  {
   "cell_type": "code",
   "execution_count": null,
   "metadata": {},
   "outputs": [],
   "source": []
  }
 ],
 "metadata": {
  "kernelspec": {
   "display_name": "Python 3",
   "language": "python",
   "name": "python3"
  },
  "language_info": {
   "codemirror_mode": {
    "name": "ipython",
    "version": 3
   },
   "file_extension": ".py",
   "mimetype": "text/x-python",
   "name": "python",
   "nbconvert_exporter": "python",
   "pygments_lexer": "ipython3",
   "version": "3.6.2"
  }
 },
 "nbformat": 4,
 "nbformat_minor": 2
}
