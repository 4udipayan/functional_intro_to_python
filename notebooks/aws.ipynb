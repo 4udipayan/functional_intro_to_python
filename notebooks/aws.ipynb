{
 "cells": [
  {
   "cell_type": "markdown",
   "metadata": {},
   "source": [
    "### Read this tutorial:\n",
    "https://github.com/noahgift/datascience_team_bootstrapping/wiki/AWS-Fundamentals-(For-DataScience-Teams)\n",
    "\n",
    "### Python Library for Interacting with AWS is Boto\n",
    "http://boto3.readthedocs.io/en/latest/"
   ]
  },
  {
   "cell_type": "markdown",
   "metadata": {},
   "source": [
    "#### Must have credentials setup"
   ]
  },
  {
   "cell_type": "markdown",
   "metadata": {},
   "source": [
    "#### To access s3 use "
   ]
  },
  {
   "cell_type": "code",
   "execution_count": null,
   "metadata": {
    "scrolled": false
   },
   "outputs": [],
   "source": [
    "import boto3\n",
    "resource = boto3.resource(\"s3\")\n",
    "resource.meta.client.download_file('testntest', 'nba_2017_endorsement_full_stats.csv',\n",
    "'/tmp/nba_2017_endorsement_full_stats.csv')\n",
    "!ls -l /tmp/nba_2017_endorsement_full_stats.csv\n"
   ]
  },
  {
   "cell_type": "code",
   "execution_count": null,
   "metadata": {},
   "outputs": [],
   "source": []
  }
 ],
 "metadata": {
  "kernelspec": {
   "display_name": "Python 3",
   "language": "python",
   "name": "python3"
  },
  "language_info": {
   "codemirror_mode": {
    "name": "ipython",
    "version": 3
   },
   "file_extension": ".py",
   "mimetype": "text/x-python",
   "name": "python",
   "nbconvert_exporter": "python",
   "pygments_lexer": "ipython3",
   "version": "3.6.3"
  }
 },
 "nbformat": 4,
 "nbformat_minor": 2
}
