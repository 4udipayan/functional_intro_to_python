{
 "cells": [
  {
   "cell_type": "markdown",
   "metadata": {},
   "source": [
    "# A Functional Introduction To Python\n",
    "## Section 1.  Introductory Concepts \n",
    "## Section 2.  Functions\n",
    "## <span style=\"color:blue\">Section 3.  Control Structures</span>\n",
    "## Section 4.  Intermediate Topics"
   ]
  },
  {
   "cell_type": "markdown",
   "metadata": {},
   "source": [
    "## Section 3:  Control Structures\n",
    "*  For loops\n",
    "*  While loops\n",
    "*  If/else statements\n",
    "*  Try/Except\n",
    "*  Generator expressions\n",
    "*  List Comprehensions\n",
    "*  Pattern Matching\n",
    "\n",
    "All programs eventually need a way to control the flow of execution.  This section describes techniques."
   ]
  },
  {
   "cell_type": "markdown",
   "metadata": {},
   "source": [
    "### For Loops\n",
    "The for loop is one of the most fundamental control structures in Python.\n",
    "One common pattern is to use the range function to generate a range of values, then to iterate on them.\n"
   ]
  },
  {
   "cell_type": "code",
   "execution_count": 93,
   "metadata": {},
   "outputs": [
    {
     "name": "stdout",
     "output_type": "stream",
     "text": [
      "[0, 1, 2]\n"
     ]
    }
   ],
   "source": [
    "res = range(3)\n",
    "print(list(res))"
   ]
  },
  {
   "cell_type": "code",
   "execution_count": 94,
   "metadata": {},
   "outputs": [
    {
     "name": "stdout",
     "output_type": "stream",
     "text": [
      "0\n",
      "1\n",
      "2\n"
     ]
    }
   ],
   "source": [
    "for i in range(3):\n",
    "    print(i)"
   ]
  },
  {
   "cell_type": "markdown",
   "metadata": {},
   "source": [
    "##### For loop over list\n",
    "Another common pattern is to iterate or a list"
   ]
  },
  {
   "cell_type": "code",
   "execution_count": 95,
   "metadata": {},
   "outputs": [
    {
     "name": "stdout",
     "output_type": "stream",
     "text": [
      "Sambo has influenced modern mixed martial arts\n",
      "Muay Thai has influenced modern mixed martial arts\n",
      "BJJ has influenced modern mixed martial arts\n"
     ]
    }
   ],
   "source": [
    "martial_arts = [\"Sambo\", \"Muay Thai\", \"BJJ\"]\n",
    "for martial_art in martial_arts:\n",
    "    print(f\"{martial_art} has influenced modern mixed martial arts\")"
   ]
  },
  {
   "cell_type": "markdown",
   "metadata": {},
   "source": [
    "### While Loops\n",
    "A While Loop is often used as a way of looping until a condition is met.\n",
    "A very common use of a while loop is to create an infinite loop.\n",
    "In the example below a while loop is used to filter a function that returns 1 of 2 types of attacks.\n"
   ]
  },
  {
   "cell_type": "code",
   "execution_count": 96,
   "metadata": {},
   "outputs": [
    {
     "name": "stdout",
     "output_type": "stream",
     "text": [
      "There are a total of 3 attacks coming!\n",
      "crossing legs to prevent attack #1\n",
      "crossing legs to prevent attack #2\n",
      "This is not a lower body attack, I will cross my arms for #3\n"
     ]
    }
   ],
   "source": [
    "def attacks():\n",
    "    list_of_attacks = [\"lower_body\", \"lower_body\",\"upper_body\"]\n",
    "    print(f\"There are a total of {len(list_of_attacks)} attacks coming!\")\n",
    "    for attack in list_of_attacks:\n",
    "        yield attack\n",
    "attack = attacks()\n",
    "count = 0\n",
    "while next(attack) == \"lower_body\":\n",
    "    count +=1\n",
    "    print(f\"crossing legs to prevent attack #{count}\")\n",
    "else:\n",
    "    count +=1\n",
    "    print(f\"This is not a lower body attack, I will cross my arms for #{count}\")"
   ]
  },
  {
   "cell_type": "markdown",
   "metadata": {},
   "source": [
    "### If/Else\n",
    "If/Else statements are a common way to branch between decisions.\n",
    "In the example below if/elif are used to match a branch.  If there are no matches, the last \"else\" statement is run.\n"
   ]
  },
  {
   "cell_type": "code",
   "execution_count": 97,
   "metadata": {},
   "outputs": [],
   "source": [
    "def recommended_attack(position):\n",
    "    \"\"\"Recommends an attack based on the position\"\"\"\n",
    "    if position == \"full_guard\":\n",
    "        print(f\"Try an armbar attack\")\n",
    "    elif position == \"half_guard\":\n",
    "        print(f\"Try a kimura attack\")\n",
    "    elif position == \"full_mount\":\n",
    "        print(f\"Try an arm triangle\")\n",
    "    else:\n",
    "        print(f\"Your on your own, there is no suggestion for an attack\")\n",
    "    \n"
   ]
  },
  {
   "cell_type": "code",
   "execution_count": 98,
   "metadata": {},
   "outputs": [
    {
     "name": "stdout",
     "output_type": "stream",
     "text": [
      "Try an armbar attack\n"
     ]
    }
   ],
   "source": [
    "recommended_attack(\"full_guard\")"
   ]
  },
  {
   "cell_type": "code",
   "execution_count": 99,
   "metadata": {},
   "outputs": [
    {
     "name": "stdout",
     "output_type": "stream",
     "text": [
      "Your on your own, there is no suggestion for an attack\n"
     ]
    }
   ],
   "source": [
    "recommended_attack(\"z_guard\")"
   ]
  },
  {
   "cell_type": "markdown",
   "metadata": {},
   "source": [
    "### Generator Expression\n",
    "Generator Expressions build further on the concept of yield by allowing for the lazy evaluation of a sequence.\n",
    "The benefit of generator expressions is that nothing is evaulated or brought into memory until it is actually evaluated.  This is why the example below can operating on an infinite sequence of random attacks that are generated.\n",
    "\n",
    "In the generator pipline the lower case attack, such as \"arm_triangle\" is converted to \"ARM_TRIANGLE\", next the underscore is remove \"ARM TRIANGLE\".  "
   ]
  },
  {
   "cell_type": "code",
   "execution_count": 100,
   "metadata": {},
   "outputs": [],
   "source": [
    "def lazy_return_random_attacks():\n",
    "    \"\"\"Yield attacks each time\"\"\"\n",
    "    import random\n",
    "    attacks = {\"kimura\": \"upper_body\",\n",
    "           \"straight_ankle_lock\":\"lower_body\", \n",
    "           \"arm_triangle\":\"upper_body\",\n",
    "            \"keylock\": \"upper_body\",\n",
    "            \"knee_bar\": \"lower_body\"}\n",
    "    while True:\n",
    "        random_attack = random.choices(list(attacks.keys()))\n",
    "        yield random_attack\n",
    "        \n",
    "#Make all attacks appear as Upper Case\n",
    "upper_case_attacks = (attack.pop().upper() for attack in lazy_return_random_attacks())"
   ]
  },
  {
   "cell_type": "code",
   "execution_count": 101,
   "metadata": {},
   "outputs": [
    {
     "data": {
      "text/plain": [
       "'STRAIGHT_ANKLE_LOCK'"
      ]
     },
     "execution_count": 101,
     "metadata": {},
     "output_type": "execute_result"
    }
   ],
   "source": [
    "next(upper_case_attacks)"
   ]
  },
  {
   "cell_type": "code",
   "execution_count": 102,
   "metadata": {},
   "outputs": [],
   "source": [
    "## Generator Pipeline:  One expression chains into the next\n",
    "#Make all attacks appear as Upper Case\n",
    "upper_case_attacks = (attack.pop().upper() for attack in lazy_return_random_attacks())\n",
    "#Remove the underscore\n",
    "remove_underscore = (attack.split(\"_\") for attack in upper_case_attacks)\n",
    "#Create a new phrase \n",
    "new_attack_phrase = (\" \".join(phrase) for phrase in remove_underscore)"
   ]
  },
  {
   "cell_type": "code",
   "execution_count": 103,
   "metadata": {},
   "outputs": [
    {
     "data": {
      "text/plain": [
       "'STRAIGHT ANKLE LOCK'"
      ]
     },
     "execution_count": 103,
     "metadata": {},
     "output_type": "execute_result"
    }
   ],
   "source": [
    "next(new_attack_phrase)"
   ]
  },
  {
   "cell_type": "code",
   "execution_count": 104,
   "metadata": {},
   "outputs": [
    {
     "name": "stdout",
     "output_type": "stream",
     "text": [
      "ARM TRIANGLE\n",
      "KNEE BAR\n",
      "ARM TRIANGLE\n",
      "KNEE BAR\n",
      "KNEE BAR\n",
      "KIMURA\n",
      "KEYLOCK\n",
      "KNEE BAR\n",
      "KIMURA\n",
      "KNEE BAR\n"
     ]
    }
   ],
   "source": [
    "for number in range(10):\n",
    "    print(next(new_attack_phrase))"
   ]
  },
  {
   "cell_type": "markdown",
   "metadata": {},
   "source": [
    "### List Comprehension\n",
    "A list comprehension is very similar to a generator expression, but it evaluated in memory.  Additionally, it is optimized C code that be a substantial improvement over a traditional for loop."
   ]
  },
  {
   "cell_type": "code",
   "execution_count": 105,
   "metadata": {},
   "outputs": [],
   "source": [
    "martial_arts = [\"Sambo\", \"Muay Thai\", \"BJJ\"]\n",
    "new_phrases = [\"\".join(f\"Mixed Martial Arts is influenced by {martial_art}\") for martial_art in martial_arts]"
   ]
  },
  {
   "cell_type": "code",
   "execution_count": 106,
   "metadata": {},
   "outputs": [
    {
     "name": "stdout",
     "output_type": "stream",
     "text": [
      "['Mixed Martial Arts is influenced by Sambo', 'Mixed Martial Arts is influenced by Muay Thai', 'Mixed Martial Arts is influenced by BJJ']\n"
     ]
    }
   ],
   "source": [
    "print(new_phrases)"
   ]
  },
  {
   "cell_type": "markdown",
   "metadata": {},
   "source": [
    "### Try/Except\n",
    "There is an expression in sports, \"Always be prepared to do your best on your worst day\".\n",
    "Try/Except statements are similar.  It is always a good idea to think about what happens when something goes wrong in code that is written.  Try/Except blocks allow for this.\n"
   ]
  },
  {
   "cell_type": "code",
   "execution_count": 107,
   "metadata": {},
   "outputs": [
    {
     "name": "stdout",
     "output_type": "stream",
     "text": [
      "I would like to compete in the EBI tournament.\n",
      "I would like to compete in the IBJJF tournament.\n",
      "I would like to compete in the NAGA tournament.\n",
      "There are no more tournaments\n"
     ]
    }
   ],
   "source": [
    "tournaments = [\"NAGA\", \"IBJJF\", \"EBI\"]\n",
    "while True:\n",
    "    try:\n",
    "        tournament = tournaments.pop()\n",
    "        print(f\"I would like to compete in the {tournament} tournament.\")\n",
    "    except IndexError:\n",
    "        print(\"There are no more tournaments\")\n",
    "        break"
   ]
  },
  {
   "cell_type": "code",
   "execution_count": null,
   "metadata": {},
   "outputs": [],
   "source": []
  }
 ],
 "metadata": {
  "kernelspec": {
   "display_name": "Python 3",
   "language": "python",
   "name": "python3"
  },
  "language_info": {
   "codemirror_mode": {
    "name": "ipython",
    "version": 3
   },
   "file_extension": ".py",
   "mimetype": "text/x-python",
   "name": "python",
   "nbconvert_exporter": "python",
   "pygments_lexer": "ipython3",
   "version": "3.6.2"
  }
 },
 "nbformat": 4,
 "nbformat_minor": 2
}
