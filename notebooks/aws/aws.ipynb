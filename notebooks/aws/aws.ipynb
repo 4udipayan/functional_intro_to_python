{
 "cells": [
  {
   "cell_type": "code",
   "execution_count": 1,
   "metadata": {},
   "outputs": [],
   "source": [
    "import boto3\n",
    "resource = boto3.resource(\"s3\")\n",
    "resource.meta.client.download_file('testntest', 'nba_2017_endorsement_full_stats.csv',\n",
    "'/tmp/nba_2017_endorsement_full_stats.csv')"
   ]
  },
  {
   "cell_type": "code",
   "execution_count": 2,
   "metadata": {},
   "outputs": [],
   "source": [
    "import pandas as pd"
   ]
  },
  {
   "cell_type": "code",
   "execution_count": 3,
   "metadata": {},
   "outputs": [],
   "source": [
    "df = pd.read_csv('/tmp/nba_2017_endorsement_full_stats.csv')"
   ]
  },
  {
   "cell_type": "code",
   "execution_count": 4,
   "metadata": {},
   "outputs": [
    {
     "data": {
      "text/html": [
       "<div>\n",
       "<style scoped>\n",
       "    .dataframe tbody tr th:only-of-type {\n",
       "        vertical-align: middle;\n",
       "    }\n",
       "\n",
       "    .dataframe tbody tr th {\n",
       "        vertical-align: top;\n",
       "    }\n",
       "\n",
       "    .dataframe thead th {\n",
       "        text-align: right;\n",
       "    }\n",
       "</style>\n",
       "<table border=\"1\" class=\"dataframe\">\n",
       "  <thead>\n",
       "    <tr style=\"text-align: right;\">\n",
       "      <th></th>\n",
       "      <th>PLAYER</th>\n",
       "      <th>TEAM</th>\n",
       "      <th>SALARY_MILLIONS</th>\n",
       "      <th>ENDORSEMENT_MILLIONS</th>\n",
       "      <th>PCT_ATTENDANCE_STADIUM</th>\n",
       "      <th>ATTENDANCE_TOTAL_BY_10K</th>\n",
       "      <th>FRANCHISE_VALUE_100_MILLION</th>\n",
       "      <th>ELO_100X</th>\n",
       "      <th>CONF</th>\n",
       "      <th>POSITION</th>\n",
       "      <th>AGE</th>\n",
       "      <th>MP</th>\n",
       "      <th>GP</th>\n",
       "      <th>MPG</th>\n",
       "      <th>WINS_RPM</th>\n",
       "      <th>PLAYER_TEAM_WINS</th>\n",
       "      <th>WIKIPEDIA_PAGEVIEWS_10K</th>\n",
       "      <th>TWITTER_FAVORITE_COUNT_1K</th>\n",
       "    </tr>\n",
       "  </thead>\n",
       "  <tbody>\n",
       "    <tr>\n",
       "      <th>0</th>\n",
       "      <td>LeBron James</td>\n",
       "      <td>Cleveland Cavaliers</td>\n",
       "      <td>30.96</td>\n",
       "      <td>55.0</td>\n",
       "      <td>100.0</td>\n",
       "      <td>84.0</td>\n",
       "      <td>12.00</td>\n",
       "      <td>15.45</td>\n",
       "      <td>East</td>\n",
       "      <td>SF</td>\n",
       "      <td>32</td>\n",
       "      <td>37.8</td>\n",
       "      <td>74.0</td>\n",
       "      <td>37.8</td>\n",
       "      <td>20.43</td>\n",
       "      <td>51.0</td>\n",
       "      <td>14.70</td>\n",
       "      <td>5.53</td>\n",
       "    </tr>\n",
       "    <tr>\n",
       "      <th>1</th>\n",
       "      <td>Kevin Durant</td>\n",
       "      <td>Golden State Warriors</td>\n",
       "      <td>26.50</td>\n",
       "      <td>36.0</td>\n",
       "      <td>100.0</td>\n",
       "      <td>80.0</td>\n",
       "      <td>26.00</td>\n",
       "      <td>17.70</td>\n",
       "      <td>West</td>\n",
       "      <td>SF</td>\n",
       "      <td>28</td>\n",
       "      <td>33.4</td>\n",
       "      <td>62.0</td>\n",
       "      <td>33.4</td>\n",
       "      <td>12.24</td>\n",
       "      <td>51.0</td>\n",
       "      <td>6.29</td>\n",
       "      <td>1.43</td>\n",
       "    </tr>\n",
       "    <tr>\n",
       "      <th>2</th>\n",
       "      <td>James Harden</td>\n",
       "      <td>Houston Rockets</td>\n",
       "      <td>26.50</td>\n",
       "      <td>20.0</td>\n",
       "      <td>94.0</td>\n",
       "      <td>70.0</td>\n",
       "      <td>16.50</td>\n",
       "      <td>16.02</td>\n",
       "      <td>West</td>\n",
       "      <td>PG</td>\n",
       "      <td>27</td>\n",
       "      <td>36.4</td>\n",
       "      <td>81.0</td>\n",
       "      <td>36.4</td>\n",
       "      <td>15.54</td>\n",
       "      <td>54.0</td>\n",
       "      <td>3.28</td>\n",
       "      <td>0.97</td>\n",
       "    </tr>\n",
       "    <tr>\n",
       "      <th>3</th>\n",
       "      <td>Russell Westbrook</td>\n",
       "      <td>Oklahoma City Thunder</td>\n",
       "      <td>26.50</td>\n",
       "      <td>15.0</td>\n",
       "      <td>100.0</td>\n",
       "      <td>75.0</td>\n",
       "      <td>10.25</td>\n",
       "      <td>15.43</td>\n",
       "      <td>West</td>\n",
       "      <td>PG</td>\n",
       "      <td>28</td>\n",
       "      <td>34.6</td>\n",
       "      <td>81.0</td>\n",
       "      <td>34.6</td>\n",
       "      <td>17.34</td>\n",
       "      <td>46.0</td>\n",
       "      <td>4.28</td>\n",
       "      <td>2.13</td>\n",
       "    </tr>\n",
       "    <tr>\n",
       "      <th>4</th>\n",
       "      <td>Carmelo Anthony</td>\n",
       "      <td>New York Knicks</td>\n",
       "      <td>24.56</td>\n",
       "      <td>8.0</td>\n",
       "      <td>100.0</td>\n",
       "      <td>81.0</td>\n",
       "      <td>33.00</td>\n",
       "      <td>13.74</td>\n",
       "      <td>East</td>\n",
       "      <td>SF</td>\n",
       "      <td>32</td>\n",
       "      <td>34.3</td>\n",
       "      <td>74.0</td>\n",
       "      <td>34.3</td>\n",
       "      <td>5.26</td>\n",
       "      <td>29.0</td>\n",
       "      <td>3.77</td>\n",
       "      <td>0.72</td>\n",
       "    </tr>\n",
       "  </tbody>\n",
       "</table>\n",
       "</div>"
      ],
      "text/plain": [
       "              PLAYER                   TEAM  SALARY_MILLIONS  \\\n",
       "0       LeBron James    Cleveland Cavaliers            30.96   \n",
       "1       Kevin Durant  Golden State Warriors            26.50   \n",
       "2       James Harden        Houston Rockets            26.50   \n",
       "3  Russell Westbrook  Oklahoma City Thunder            26.50   \n",
       "4    Carmelo Anthony        New York Knicks            24.56   \n",
       "\n",
       "   ENDORSEMENT_MILLIONS  PCT_ATTENDANCE_STADIUM  ATTENDANCE_TOTAL_BY_10K  \\\n",
       "0                  55.0                   100.0                     84.0   \n",
       "1                  36.0                   100.0                     80.0   \n",
       "2                  20.0                    94.0                     70.0   \n",
       "3                  15.0                   100.0                     75.0   \n",
       "4                   8.0                   100.0                     81.0   \n",
       "\n",
       "   FRANCHISE_VALUE_100_MILLION  ELO_100X  CONF POSITION  AGE    MP    GP  \\\n",
       "0                        12.00     15.45  East       SF   32  37.8  74.0   \n",
       "1                        26.00     17.70  West       SF   28  33.4  62.0   \n",
       "2                        16.50     16.02  West       PG   27  36.4  81.0   \n",
       "3                        10.25     15.43  West       PG   28  34.6  81.0   \n",
       "4                        33.00     13.74  East       SF   32  34.3  74.0   \n",
       "\n",
       "    MPG  WINS_RPM  PLAYER_TEAM_WINS  WIKIPEDIA_PAGEVIEWS_10K  \\\n",
       "0  37.8     20.43              51.0                    14.70   \n",
       "1  33.4     12.24              51.0                     6.29   \n",
       "2  36.4     15.54              54.0                     3.28   \n",
       "3  34.6     17.34              46.0                     4.28   \n",
       "4  34.3      5.26              29.0                     3.77   \n",
       "\n",
       "   TWITTER_FAVORITE_COUNT_1K  \n",
       "0                       5.53  \n",
       "1                       1.43  \n",
       "2                       0.97  \n",
       "3                       2.13  \n",
       "4                       0.72  "
      ]
     },
     "execution_count": 4,
     "metadata": {},
     "output_type": "execute_result"
    }
   ],
   "source": [
    "df.head()"
   ]
  },
  {
   "cell_type": "code",
   "execution_count": 7,
   "metadata": {},
   "outputs": [
    {
     "name": "stdout",
     "output_type": "stream",
     "text": [
      "Requirement already satisfied: seaborn in /Users/noahgift/.func/lib/python3.6/site-packages\n",
      "Requirement already satisfied: matplotlib in /Users/noahgift/.func/lib/python3.6/site-packages (from seaborn)\n",
      "Requirement already satisfied: numpy>=1.7.1 in /Users/noahgift/.func/lib/python3.6/site-packages (from matplotlib->seaborn)\n",
      "Requirement already satisfied: cycler>=0.10 in /Users/noahgift/.func/lib/python3.6/site-packages (from matplotlib->seaborn)\n",
      "Requirement already satisfied: pytz in /Users/noahgift/.func/lib/python3.6/site-packages (from matplotlib->seaborn)\n",
      "Requirement already satisfied: python-dateutil>=2.0 in /Users/noahgift/.func/lib/python3.6/site-packages (from matplotlib->seaborn)\n",
      "Requirement already satisfied: six>=1.10 in /Users/noahgift/.func/lib/python3.6/site-packages (from matplotlib->seaborn)\n",
      "Requirement already satisfied: pyparsing!=2.0.4,!=2.1.2,!=2.1.6,>=2.0.1 in /Users/noahgift/.func/lib/python3.6/site-packages (from matplotlib->seaborn)\n",
      "Collecting scipy\n",
      "  Using cached scipy-1.0.0-cp36-cp36m-macosx_10_6_intel.macosx_10_9_intel.macosx_10_9_x86_64.macosx_10_10_intel.macosx_10_10_x86_64.whl\n",
      "Requirement already satisfied: numpy>=1.8.2 in /Users/noahgift/.func/lib/python3.6/site-packages (from scipy)\n",
      "Installing collected packages: scipy\n",
      "Successfully installed scipy-1.0.0\n"
     ]
    }
   ],
   "source": [
    "!pip install seaborn && pip install scipy\n",
    "import seaborn as sn"
   ]
  },
  {
   "cell_type": "code",
   "execution_count": 9,
   "metadata": {},
   "outputs": [
    {
     "data": {
      "text/plain": [
       "Index(['PLAYER', 'TEAM', 'SALARY_MILLIONS', 'ENDORSEMENT_MILLIONS',\n",
       "       'PCT_ATTENDANCE_STADIUM', 'ATTENDANCE_TOTAL_BY_10K',\n",
       "       'FRANCHISE_VALUE_100_MILLION', 'ELO_100X', 'CONF', 'POSITION', 'AGE',\n",
       "       'MP', 'GP', 'MPG', 'WINS_RPM', 'PLAYER_TEAM_WINS',\n",
       "       'WIKIPEDIA_PAGEVIEWS_10K', 'TWITTER_FAVORITE_COUNT_1K'],\n",
       "      dtype='object')"
      ]
     },
     "execution_count": 9,
     "metadata": {},
     "output_type": "execute_result"
    }
   ],
   "source": [
    "df.columns\n"
   ]
  },
  {
   "cell_type": "code",
   "execution_count": 11,
   "metadata": {},
   "outputs": [
    {
     "data": {
      "text/plain": [
       "<seaborn.axisgrid.FacetGrid at 0x118e76da0>"
      ]
     },
     "execution_count": 11,
     "metadata": {},
     "output_type": "execute_result"
    },
    {
     "data": {
      "image/png": "[encoded data removed]",
      "text/plain": [
       "<matplotlib.figure.Figure at 0x118e76f60>"
      ]
     },
     "metadata": {},
     "output_type": "display_data"
    }
   ],
   "source": [
    "%matplotlib inline\n",
    "import seaborn as sns\n",
    "sns.lmplot(x=\"SALARY_MILLIONS\", y=\"ENDORSEMENT_MILLIONS\",data=df)"
   ]
  },
  {
   "cell_type": "code",
   "execution_count": null,
   "metadata": {},
   "outputs": [],
   "source": []
  }
 ],
 "metadata": {
  "kernelspec": {
   "display_name": "Python 3",
   "language": "python",
   "name": "python3"
  },
  "language_info": {
   "codemirror_mode": {
    "name": "ipython",
    "version": 3
   },
   "file_extension": ".py",
   "mimetype": "text/x-python",
   "name": "python",
   "nbconvert_exporter": "python",
   "pygments_lexer": "ipython3",
   "version": "3.6.3"
  }
 },
 "nbformat": 4,
 "nbformat_minor": 2
}
