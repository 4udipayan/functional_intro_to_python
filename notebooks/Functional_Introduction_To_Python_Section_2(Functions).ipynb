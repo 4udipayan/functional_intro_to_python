{
 "cells": [
  {
   "cell_type": "markdown",
   "metadata": {},
   "source": [
    "# A Functional Introduction To Python\n",
    "## Section 1.  Introductory Concepts \n",
    "## <span style=\"color:blue\"> Section 2.  Functions</span>\n",
    "## Section 3.  Control Structures\n",
    "## Section 4.  Intermediate Topics"
   ]
  },
  {
   "cell_type": "markdown",
   "metadata": {},
   "source": [
    "## Section 2:  Introductory Concepts Outline\n",
    "*  Writing Functions\n",
    "*  Function arguments:  positional, keyword\n",
    "*  Functional Currying:  Passing uncalled functions\n",
    "*  Functions that Yield\n",
    "*  Decorators:  Functions that wrap other functions"
   ]
  },
  {
   "cell_type": "markdown",
   "metadata": {},
   "source": [
    "### Writing Functions\n",
    "Learning to write a function is the most fundamental skill to learn in Python.  With a basic mastery of functions it is possible to have an almost full command of the language.\n"
   ]
  },
  {
   "cell_type": "markdown",
   "metadata": {},
   "source": [
    "##### Simple function\n",
    "The simplest functions just return a value."
   ]
  },
  {
   "cell_type": "code",
   "execution_count": 4,
   "metadata": {},
   "outputs": [],
   "source": [
    "def favorite_martial_art():\n",
    "    return \"bjj\""
   ]
  },
  {
   "cell_type": "code",
   "execution_count": 5,
   "metadata": {},
   "outputs": [
    {
     "data": {
      "text/plain": [
       "'bjj'"
      ]
     },
     "execution_count": 5,
     "metadata": {},
     "output_type": "execute_result"
    }
   ],
   "source": [
    "favorite_martial_art()"
   ]
  },
  {
   "cell_type": "markdown",
   "metadata": {},
   "source": [
    "##### Documenting Functions\n",
    "It is a very good idea to document functions.  \n",
    "In Jupyter Notebook and IPython docstrings can be viewed by referring to the function with a ?.  ie.\n",
    "```\n",
    "In [2]: favorite_martial_art_with_docstring?\n",
    "Signature: favorite_martial_art_with_docstring()\n",
    "Docstring: This function returns the name of my favorite martial art\n",
    "File:      ~/src/functional_intro_to_python/<ipython-input-1-bef983c31735>\n",
    "Type:      function\n",
    "```"
   ]
  },
  {
   "cell_type": "code",
   "execution_count": 9,
   "metadata": {},
   "outputs": [],
   "source": [
    "def favorite_martial_art_with_docstring():\n",
    "    \"\"\"This function returns the name of my favorite martial art\"\"\"\n",
    "    return \"bjj\""
   ]
  },
  {
   "cell_type": "code",
   "execution_count": 27,
   "metadata": {},
   "outputs": [
    {
     "data": {
      "text/plain": [
       "'This function returns the name of my favorite martial art'"
      ]
     },
     "execution_count": 27,
     "metadata": {},
     "output_type": "execute_result"
    }
   ],
   "source": []
  },
  {
   "cell_type": "code",
   "execution_count": 26,
   "metadata": {},
   "outputs": [
    {
     "data": {
      "text/plain": [
       "'This function returns the name of my favorite martial art'"
      ]
     },
     "execution_count": 26,
     "metadata": {},
     "output_type": "execute_result"
    }
   ],
   "source": []
  },
  {
   "cell_type": "code",
   "execution_count": null,
   "metadata": {},
   "outputs": [],
   "source": []
  }
 ],
 "metadata": {
  "kernelspec": {
   "display_name": "Python 3",
   "language": "python",
   "name": "python3"
  },
  "language_info": {
   "codemirror_mode": {
    "name": "ipython",
    "version": 3
   },
   "file_extension": ".py",
   "mimetype": "text/x-python",
   "name": "python",
   "nbconvert_exporter": "python",
   "pygments_lexer": "ipython3",
   "version": "3.6.2"
  }
 },
 "nbformat": 4,
 "nbformat_minor": 2
}
